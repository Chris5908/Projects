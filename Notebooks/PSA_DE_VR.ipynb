{
 "cells": [
  {
   "cell_type": "markdown",
   "metadata": {
    "deletable": true,
    "editable": true
   },
   "source": [
    "Analyse véhicules DE "
   ]
  },
  {
   "cell_type": "code",
   "execution_count": 25,
   "metadata": {
    "collapsed": true,
    "deletable": true,
    "editable": true
   },
   "outputs": [],
   "source": [
    "%matplotlib inline\n",
    "import pandas as pd \n",
    "import numpy as np\n",
    "import matplotlib.pyplot as plt\n",
    "from datetime import datetime"
   ]
  },
  {
   "cell_type": "code",
   "execution_count": 2,
   "metadata": {
    "collapsed": false,
    "deletable": true,
    "editable": true
   },
   "outputs": [
    {
     "name": "stdout",
     "output_type": "stream",
     "text": [
      "   vo_annonce_id  cote_vo  cote_mcclbp                VIN  \\\n",
      "0              2     9586        10132  vf3pahmtcfr284240   \n",
      "1              3    15950        16238  vf3lbbhzhfs244877   \n",
      "2              4        0            0  vf73a5gztgj620217   \n",
      "3              5        0        22651  vf3yatmfa12a81386   \n",
      "4              6    15691        15040  vf77jbhymfj851921   \n",
      "\n",
      "                          MCCLBP  PRIX_NEUF_BAR  PRIX_BAR   KMM  \\\n",
      "0   DE-82-3463-1-2-1-1.20-82---N        12610.0    5087.0  1000   \n",
      "1   DE-82-580-2-2-1-1.60-120---N        25810.0    8589.0  3330   \n",
      "2  DE-59-505-1-13-2-1.60-165---N        34035.0   10006.0  1250   \n",
      "3  DE-82-241-2-14-1-2.20-130---N        36208.0   11692.0  1000   \n",
      "4    DE-59-40-2-13-2-1.60-99---N        25190.0    6920.0  3330   \n",
      "\n",
      "   PRIX_NEUF_AUTOBIZ  Ref ID  \\\n",
      "0            10264.0   84622   \n",
      "1            21249.0   62679   \n",
      "2            23643.0   84552   \n",
      "3                NaN  136528   \n",
      "4            15839.0  111499   \n",
      "\n",
      "                         ...                          B2C today B2C VR  \\\n",
      "0                        ...                              10150   7404   \n",
      "1                        ...                              15250  12243   \n",
      "2                        ...                              20450  14381   \n",
      "3                        ...                              22651  15988   \n",
      "4                        ...                              15100  12803   \n",
      "\n",
      "  b2b_brut  b2b_prev Dévalo Annuel Valeur Equip Today  \\\n",
      "0     6367      5484      0.900188               -550   \n",
      "1     9193      9193      0.870480                650   \n",
      "2    12368     12368      0.892092                  0   \n",
      "3    12950     12950      0.893165                  0   \n",
      "4     9133      9133      0.905734                550   \n",
      "\n",
      "                                         Version PSA  \\\n",
      "0  108 Active PureTech 82 5-Türer eb2f 60kw 1199 ...   \n",
      "1  308 Active BlueHDi 120 STOP & START dv6fc fap ...   \n",
      "2  GRAND C4 PICASSO THP165 S&S EAT 6 Selection ep...   \n",
      "3  Boxer Kastenwagen Komfort 330 L1H1 2,2l HDi 13...   \n",
      "4  BERLINGO MULTISPACE BlueHDi 100 S&S ETG6 Shine...   \n",
      "\n",
      "                                         Desc LCDV  \\\n",
      "0                   108 Active PureTech 82 5-Türer   \n",
      "1              308 Active BlueHDi 120 STOP & START   \n",
      "2      GRAND C4 PICASSO THP165 S&S EAT 6 Selection   \n",
      "3  Boxer Kastenwagen Komfort 330 L1H1 2,2l HDi 130   \n",
      "4   BERLINGO MULTISPACE BlueHDi 100 S&S ETG6 Shine   \n",
      "\n",
      "                                     Version Autobiz  \\\n",
      "0                             1.2 80 PURETECH ACTIVE   \n",
      "1                  1.6 BLUEHDI 120 ACTIVE START-STOP   \n",
      "2     1.6 THP 165 SELECTION EAT AUTOMATIK START-STOP   \n",
      "3                       333 2.2 HDI 130 L1H1 KOMFORT   \n",
      "4  MULTISPACE 1.6 BLUEHDI 100 SHINE ETG AUTOMATIK...   \n",
      "\n",
      "                                                 URL  \n",
      "0  http://www.autobiz-market.com/de/SVO/AUTOBIZ_c...  \n",
      "1  http://www.autobiz-market.com/de/SVO/AUTOBIZ_c...  \n",
      "2  http://www.autobiz-market.com/de/SVO/AUTOBIZ_c...  \n",
      "3  http://www.autobiz-market.com/de/SVO/AUTOBIZ_c...  \n",
      "4  http://www.autobiz-market.com/de/SVO/AUTOBIZ_c...  \n",
      "\n",
      "[5 rows x 27 columns]\n"
     ]
    }
   ],
   "source": [
    "df = pd.read_csv('PSA_DE_20170412_2.csv',sep=';')\n",
    "print(df.head())"
   ]
  },
  {
   "cell_type": "code",
   "execution_count": 3,
   "metadata": {
    "collapsed": false,
    "deletable": true,
    "editable": true
   },
   "outputs": [
    {
     "name": "stdout",
     "output_type": "stream",
     "text": [
      "5100 cars\n"
     ]
    }
   ],
   "source": [
    "#df= df['b2b_prev'].replace(0,np.nan)\n",
    "df=df[df['b2b_prev']>0]\n",
    "df=df[df['PRIX_BAR']>0]\n",
    "#print(list(df))\n",
    "#print(df.head())\n",
    "#df = df.dropna(axis=0,subset=['b2b_prev'])\n",
    "#df = df[df['b2b_prev'].notnull()]\n",
    "\n",
    "mean_auto = df['b2b_prev'].mean(axis=0)\n",
    "\n",
    "mean_bar  = df['PRIX_BAR'].mean(axis=0)\n",
    "print(len(df), 'cars')\n",
    "#print(mean_auto, std_auto, mean_bar, std_bar)"
   ]
  },
  {
   "cell_type": "code",
   "execution_count": 4,
   "metadata": {
    "collapsed": false,
    "deletable": true,
    "editable": true
   },
   "outputs": [
    {
     "name": "stdout",
     "output_type": "stream",
     "text": [
      "0.314572555322 0.300768028877\n"
     ]
    }
   ],
   "source": [
    "df['b2b_prev_norm']=df['b2b_prev']/mean_auto\n",
    "df['PRIX_BAR_norm']=df['PRIX_BAR']/mean_bar\n",
    "std_auto  = df['b2b_prev_norm'].std(axis=0)\n",
    "std_bar   = df['PRIX_BAR_norm'].std(axis=0)\n",
    "print(std_auto, std_bar)"
   ]
  },
  {
   "cell_type": "code",
   "execution_count": 5,
   "metadata": {
    "collapsed": false,
    "deletable": true,
    "editable": true
   },
   "outputs": [
    {
     "data": {
      "text/html": [
       "<div>\n",
       "<table border=\"1\" class=\"dataframe\">\n",
       "  <thead>\n",
       "    <tr style=\"text-align: right;\">\n",
       "      <th></th>\n",
       "      <th>b2b_prev</th>\n",
       "      <th>PRIX_BAR</th>\n",
       "      <th>b2b_prev_norm</th>\n",
       "      <th>PRIX_BAR_norm</th>\n",
       "    </tr>\n",
       "  </thead>\n",
       "  <tbody>\n",
       "    <tr>\n",
       "      <th>count</th>\n",
       "      <td>5100.000000</td>\n",
       "      <td>5100.000000</td>\n",
       "      <td>5100.000000</td>\n",
       "      <td>5100.000000</td>\n",
       "    </tr>\n",
       "    <tr>\n",
       "      <th>mean</th>\n",
       "      <td>10230.031176</td>\n",
       "      <td>9821.239804</td>\n",
       "      <td>1.000000</td>\n",
       "      <td>1.000000</td>\n",
       "    </tr>\n",
       "    <tr>\n",
       "      <th>std</th>\n",
       "      <td>3218.087048</td>\n",
       "      <td>2953.914937</td>\n",
       "      <td>0.314573</td>\n",
       "      <td>0.300768</td>\n",
       "    </tr>\n",
       "    <tr>\n",
       "      <th>min</th>\n",
       "      <td>2569.000000</td>\n",
       "      <td>2368.000000</td>\n",
       "      <td>0.251123</td>\n",
       "      <td>0.241110</td>\n",
       "    </tr>\n",
       "    <tr>\n",
       "      <th>25%</th>\n",
       "      <td>7910.750000</td>\n",
       "      <td>7634.750000</td>\n",
       "      <td>0.773287</td>\n",
       "      <td>0.777371</td>\n",
       "    </tr>\n",
       "    <tr>\n",
       "      <th>50%</th>\n",
       "      <td>10019.500000</td>\n",
       "      <td>9555.500000</td>\n",
       "      <td>0.979420</td>\n",
       "      <td>0.972942</td>\n",
       "    </tr>\n",
       "    <tr>\n",
       "      <th>75%</th>\n",
       "      <td>12262.250000</td>\n",
       "      <td>11957.000000</td>\n",
       "      <td>1.198652</td>\n",
       "      <td>1.217463</td>\n",
       "    </tr>\n",
       "    <tr>\n",
       "      <th>max</th>\n",
       "      <td>22769.000000</td>\n",
       "      <td>24349.000000</td>\n",
       "      <td>2.225702</td>\n",
       "      <td>2.479219</td>\n",
       "    </tr>\n",
       "  </tbody>\n",
       "</table>\n",
       "</div>"
      ],
      "text/plain": [
       "           b2b_prev      PRIX_BAR  b2b_prev_norm  PRIX_BAR_norm\n",
       "count   5100.000000   5100.000000    5100.000000    5100.000000\n",
       "mean   10230.031176   9821.239804       1.000000       1.000000\n",
       "std     3218.087048   2953.914937       0.314573       0.300768\n",
       "min     2569.000000   2368.000000       0.251123       0.241110\n",
       "25%     7910.750000   7634.750000       0.773287       0.777371\n",
       "50%    10019.500000   9555.500000       0.979420       0.972942\n",
       "75%    12262.250000  11957.000000       1.198652       1.217463\n",
       "max    22769.000000  24349.000000       2.225702       2.479219"
      ]
     },
     "execution_count": 5,
     "metadata": {},
     "output_type": "execute_result"
    }
   ],
   "source": [
    "df[['b2b_prev','PRIX_BAR','b2b_prev_norm','PRIX_BAR_norm']].describe()\n"
   ]
  },
  {
   "cell_type": "code",
   "execution_count": 6,
   "metadata": {
    "collapsed": false,
    "deletable": true,
    "editable": true
   },
   "outputs": [
    {
     "data": {
      "text/plain": [
       "<matplotlib.axes._subplots.AxesSubplot at 0x10ab8e5c0>"
      ]
     },
     "execution_count": 6,
     "metadata": {},
     "output_type": "execute_result"
    },
    {
     "data": {
      "image/png": "[encoded data removed]",
      "text/plain": [
       "<matplotlib.figure.Figure at 0x10cdfcc50>"
      ]
     },
     "metadata": {},
     "output_type": "display_data"
    }
   ],
   "source": [
    "df.b2b_prev_norm.hist()\n",
    "df.PRIX_BAR_norm.hist()"
   ]
  },
  {
   "cell_type": "code",
   "execution_count": 7,
   "metadata": {
    "collapsed": false,
    "deletable": true,
    "editable": true
   },
   "outputs": [
    {
     "data": {
      "image/png": "[encoded data removed]",
      "text/plain": [
       "<matplotlib.figure.Figure at 0x10d1a85f8>"
      ]
     },
     "metadata": {},
     "output_type": "display_data"
    }
   ],
   "source": [
    "fig = plt.figure(figsize=(15,7))\n",
    "plt.plot(df.km_vr, df.PRIX_BAR, 'b.', alpha=0.8, label='BAR')\n",
    "plt.plot(df.km_vr, df.b2b_prev, 'y.', alpha=0.8, label='Autobiz')\n",
    "\n",
    "plt.legend()\n",
    "plt.xlabel('km_vr')\n",
    "plt.ylabel('Norm')\n",
    "plt.grid(True)"
   ]
  },
  {
   "cell_type": "code",
   "execution_count": 8,
   "metadata": {
    "collapsed": false,
    "deletable": true,
    "editable": true
   },
   "outputs": [
    {
     "name": "stdout",
     "output_type": "stream",
     "text": [
      "0.977013522223\n"
     ]
    }
   ],
   "source": [
    "print(np.mean(df.PRIX_BAR/df.b2b_prev))\n",
    "# En moyenne nous sommes plus cher"
   ]
  },
  {
   "cell_type": "code",
   "execution_count": 9,
   "metadata": {
    "collapsed": false,
    "deletable": true,
    "editable": true
   },
   "outputs": [
    {
     "name": "stdout",
     "output_type": "stream",
     "text": [
      "1339 1195 1286 1280\n"
     ]
    }
   ],
   "source": [
    "df['Dif'] = df.b2b_prev-df.PRIX_BAR\n",
    "df['Percent']=df.Dif/df.b2b_prev\n",
    "df_quant_25 = df[df.b2b_prev<8000]\n",
    "df_quant_50 = df[(df.b2b_prev>=8000) & (df.b2b_prev<10000)]\n",
    "df_quant_75 = df[(df.b2b_prev>=10000) & (df.b2b_prev<12250)]\n",
    "df_quant_100 = df[df.b2b_prev>=12250]\n",
    "print(len(df_quant_25),len(df_quant_50),len(df_quant_75),len(df_quant_100))"
   ]
  },
  {
   "cell_type": "code",
   "execution_count": 10,
   "metadata": {
    "collapsed": false,
    "deletable": true,
    "editable": true
   },
   "outputs": [
    {
     "name": "stdout",
     "output_type": "stream",
     "text": [
      "1.05806134768 0.974682912582 0.951043301493 0.920497697293\n"
     ]
    }
   ],
   "source": [
    "print(np.mean(df_quant_25.PRIX_BAR/df_quant_25.b2b_prev),\\\n",
    "      np.mean(df_quant_50.PRIX_BAR/df_quant_50.b2b_prev),\\\n",
    "      np.mean(df_quant_75.PRIX_BAR/df_quant_75.b2b_prev),\\\n",
    "      np.mean(df_quant_100.PRIX_BAR/df_quant_100.b2b_prev))"
   ]
  },
  {
   "cell_type": "markdown",
   "metadata": {
    "deletable": true,
    "editable": true
   },
   "source": [
    "Pour les véhicules dont le prix est inférieur à 8000€ nous sommes moins cher,\n",
    "pour le reste, nous sommes plus cher. Soit 3761 véhicules sur 5100."
   ]
  },
  {
   "cell_type": "code",
   "execution_count": 11,
   "metadata": {
    "collapsed": false,
    "deletable": true,
    "editable": true
   },
   "outputs": [
    {
     "name": "stdout",
     "output_type": "stream",
     "text": [
      "Moins cher : 1990 Plus cher : 3107 Egal : 3\n"
     ]
    }
   ],
   "source": [
    "nb_neg = len(df[df['Dif']<0])\n",
    "nb_pos = len(df[df['Dif']>0])\n",
    "nb_equal=len(df[df['Dif']==0])\n",
    "print('Moins cher :',nb_neg, 'Plus cher :',nb_pos, 'Egal :',nb_equal)"
   ]
  },
  {
   "cell_type": "markdown",
   "metadata": {
    "deletable": true,
    "editable": true
   },
   "source": [
    "Nous sommes plus cher sur 3107 véhicules, moins cher sur 1990 véhicules et identiques pour 3. "
   ]
  },
  {
   "cell_type": "code",
   "execution_count": 12,
   "metadata": {
    "collapsed": false,
    "deletable": true,
    "editable": true
   },
   "outputs": [
    {
     "name": "stdout",
     "output_type": "stream",
     "text": [
      "39.02 % 60.92 % 0.06 %\n"
     ]
    }
   ],
   "source": [
    "print('%.2f'%(100*nb_neg/5100),'%','%.2f'%(100*nb_pos/5100),'%','%.2f'%(100*nb_equal/5100),'%')"
   ]
  },
  {
   "cell_type": "code",
   "execution_count": 13,
   "metadata": {
    "collapsed": false,
    "deletable": true,
    "editable": true
   },
   "outputs": [
    {
     "name": "stdout",
     "output_type": "stream",
     "text": [
      "408.791372549\n"
     ]
    }
   ],
   "source": [
    "print(df['Dif'].mean(0))"
   ]
  },
  {
   "cell_type": "code",
   "execution_count": 14,
   "metadata": {
    "collapsed": false,
    "deletable": true,
    "editable": true
   },
   "outputs": [
    {
     "name": "stdout",
     "output_type": "stream",
     "text": [
      "1378.0 € -1104.0 €\n"
     ]
    }
   ],
   "source": [
    "df_moinscher = df[df['Dif']<0]\n",
    "df_pluscher = df[df['Dif']>0]\n",
    "print(round(df_pluscher.Dif.mean(0)),'€',round(df_moinscher.Dif.mean(0)),'€')"
   ]
  },
  {
   "cell_type": "code",
   "execution_count": 15,
   "metadata": {
    "collapsed": false,
    "deletable": true,
    "editable": true
   },
   "outputs": [
    {
     "name": "stdout",
     "output_type": "stream",
     "text": [
      "0             108 Active\n",
      "1             308 Active\n",
      "2               GRAND C4\n",
      "3      Boxer Kastenwagen\n",
      "4    BERLINGO MULTISPACE\n",
      "Name: Versioning, dtype: object\n"
     ]
    }
   ],
   "source": [
    "vers = df['Version PSA']\n",
    "vers = [i.split() for i in vers]\n",
    "vers = [i[0]+' '+i[1] for i in vers]\n",
    "df['Versioning']=vers\n",
    "print(df['Versioning'].head())"
   ]
  },
  {
   "cell_type": "code",
   "execution_count": 16,
   "metadata": {
    "collapsed": false,
    "deletable": true,
    "editable": true,
    "scrolled": false
   },
   "outputs": [
    {
     "name": "stdout",
     "output_type": "stream",
     "text": [
      "      vo_annonce_id           Versioning  PRIX_NEUF_BAR  PRIX_NEUF_AUTOBIZ  \\\n",
      "3601           3755   Expert Kastenwagen        28132.0                NaN   \n",
      "1832           1910           Expert Pro        30368.0            16425.0   \n",
      "1338           1387   Expert Kastenwagen        26799.0                NaN   \n",
      "4945           5156   Expert Kastenwagen        27489.0                NaN   \n",
      "5460           5686   Expert Kastenwagen        27787.0                NaN   \n",
      "5552           5779          Boxer Cargo        65708.0            33175.0   \n",
      "3055           3185  Partner Kastenwagen        23516.0            15057.0   \n",
      "3054           3184  Partner Kastenwagen        23516.0            15057.0   \n",
      "3542           3692  Partner Kastenwagen        23516.0            15057.0   \n",
      "5272           5495   Expert Kastenwagen        28799.0                NaN   \n",
      "4366           4549   Bipper Kastenwagen        18850.0                0.0   \n",
      "2168           2261   Expert Kastenwagen        44411.0                0.0   \n",
      "2309           2406   Expert Kastenwagen        30108.0                NaN   \n",
      "3634           3788   Expert Kastenwagen        30108.0                NaN   \n",
      "3361           3506   Expert Kastenwagen        27679.0                NaN   \n",
      "742             767        BERLINGO KaWa        23920.0                0.0   \n",
      "989            1024   Expert Kastenwagen        33498.0                0.0   \n",
      "505             523   Bipper Kastenwagen        18196.0                0.0   \n",
      "382             392   Expert Kastenwagen        29119.0                NaN   \n",
      "1879           1963  Partner Kastenwagen        17648.0                NaN   \n",
      "5660           5889   JUMPER Kastenwagen        35589.0                0.0   \n",
      "3037           3167   Bipper Kastenwagen        19018.0            13016.0   \n",
      "2797           2922          JUMPER KAWA        40740.0            26701.0   \n",
      "3135           3266   Bipper Kastenwagen        18494.0            11774.0   \n",
      "2229           2322    JUMPY Kastenwagen        44661.0            19519.0   \n",
      "3870           4032           JU PROLI33        38509.0                0.0   \n",
      "1180           1221    Boxer Kastenwagen        41575.0                0.0   \n",
      "497             514       Expert TwinCab        34272.0                0.0   \n",
      "4152           4325          JUMPER KaWa        43828.0            25824.0   \n",
      "1369           1419          JUMPER KaWa        43828.0            25207.0   \n",
      "5609           5838   JUMPER Kastenwagen        50159.0                NaN   \n",
      "2291           2388   Expert Kastenwagen        31357.0                NaN   \n",
      "3049           3179   Bipper Kastenwagen        18899.0                0.0   \n",
      "2333           2430        BERLINGO KaWa        30226.0            16721.0   \n",
      "1216           1258   Expert Kastenwagen        33474.0            22206.0   \n",
      "1778           1848   Expert Kastenwagen        36688.0                0.0   \n",
      "5143           5361       Expert TwinCab        38128.0                0.0   \n",
      "3924           4091  Partner Kastenwagen        20683.0                0.0   \n",
      "1076           1113               308 SW        27091.0                NaN   \n",
      "2136           2226   Bipper Kastenwagen        17280.0            12377.0   \n",
      "78               82           JU PROLI33        39984.0                0.0   \n",
      "3604           3758          JUMPER KAWA        40891.0            25347.0   \n",
      "3134           3265          JUMPER KAWA        40891.0            25347.0   \n",
      "4349           4532  Partner Kastenwagen        22397.0                0.0   \n",
      "2569           2681   Bipper Kastenwagen        18840.0                0.0   \n",
      "4892           5100  Partner Kastenwagen        19850.0                0.0   \n",
      "1401           1458             GRAND C4        34830.0            20940.0   \n",
      "4030           4201  Partner Kastenwagen        23920.0            16033.0   \n",
      "1419           1478  Partner Kastenwagen        19886.0                0.0   \n",
      "4846           5052             GRAND C4        28785.0                0.0   \n",
      "2233           2326  Partner Kastenwagen        18744.0            11406.0   \n",
      "1930           2015   Expert Kastenwagen        32701.0            21386.0   \n",
      "4531           4716   JUMPER Kastenwagen        45081.0                0.0   \n",
      "5640           5869       Expert TwinCab        35759.0                0.0   \n",
      "3141           3272       Expert TwinCab        36259.0                0.0   \n",
      "5381           5606         Expert Tepee        40060.0                0.0   \n",
      "3262           3401  Partner Kastenwagen        31286.0            21352.0   \n",
      "688             712           108 Access        10550.0             9308.0   \n",
      "2830           2957  Partner Kastenwagen        18957.0            12144.0   \n",
      "4980           5193         Expert Tepee        40560.0                0.0   \n",
      "\n",
      "      PRIX_BAR  b2b_prev      Dif   Percent  \n",
      "3601   10215.0      5173  -5042.0 -0.974676  \n",
      "1832   10045.0      5203  -4842.0 -0.930617  \n",
      "1338    9546.0      5135  -4411.0 -0.859007  \n",
      "4945    9522.0      5382  -4140.0 -0.769231  \n",
      "5460    9710.0      5520  -4190.0 -0.759058  \n",
      "5552   24349.0     13933 -10416.0 -0.747578  \n",
      "3055    8659.0      4956  -3703.0 -0.747175  \n",
      "3054    8659.0      4956  -3703.0 -0.747175  \n",
      "3542    8659.0      4956  -3703.0 -0.747175  \n",
      "5272   10746.0      6232  -4514.0 -0.724326  \n",
      "4366    7468.0      4344  -3124.0 -0.719153  \n",
      "2168   17244.0     10058  -7186.0 -0.714456  \n",
      "2309   10619.0      6232  -4387.0 -0.703947  \n",
      "3634   10619.0      6232  -4387.0 -0.703947  \n",
      "3361    8918.0      5273  -3645.0 -0.691257  \n",
      "742     7219.0      4306  -2913.0 -0.676498  \n",
      "989    11316.0      6770  -4546.0 -0.671492  \n",
      "505     4452.0      2679  -1773.0 -0.661814  \n",
      "382    11752.0      7098  -4654.0 -0.655678  \n",
      "1879    6104.0      3689  -2415.0 -0.654649  \n",
      "5660   10143.0      6168  -3975.0 -0.644455  \n",
      "3037    6301.0      3839  -2462.0 -0.641313  \n",
      "2797   14554.0      8943  -5611.0 -0.627418  \n",
      "3135    4809.0      2959  -1850.0 -0.625211  \n",
      "2229    9798.0      6067  -3731.0 -0.614966  \n",
      "3870    8869.0      5501  -3368.0 -0.612252  \n",
      "1180   11057.0      6891  -4166.0 -0.604557  \n",
      "497    10544.0      6654  -3890.0 -0.584611  \n",
      "4152   13705.0      8741  -4964.0 -0.567898  \n",
      "1369   13705.0      8806  -4899.0 -0.556325  \n",
      "5609   11359.0      7320  -4039.0 -0.551776  \n",
      "2291   11907.0      7682  -4225.0 -0.549987  \n",
      "3049    5985.0      3879  -2106.0 -0.542923  \n",
      "2333    8208.0      5350  -2858.0 -0.534206  \n",
      "1216    7981.0      5251  -2730.0 -0.519901  \n",
      "1778   12546.0      8286  -4260.0 -0.514120  \n",
      "5143   12134.0      8018  -4116.0 -0.513345  \n",
      "3924    6414.0      4251  -2163.0 -0.508821  \n",
      "1076   11819.0      7840  -3979.0 -0.507526  \n",
      "2136    7392.0      4918  -2474.0 -0.503050  \n",
      "78      9878.0      6584  -3294.0 -0.500304  \n",
      "3604   13069.0      8725  -4344.0 -0.497880  \n",
      "3134   13069.0      8725  -4344.0 -0.497880  \n",
      "4349    7998.0      5353  -2645.0 -0.494115  \n",
      "2569    5647.0      3787  -1860.0 -0.491154  \n",
      "4892    7629.0      5144  -2485.0 -0.483087  \n",
      "1401   11118.0      7556  -3562.0 -0.471413  \n",
      "4030    7114.0      4835  -2279.0 -0.471355  \n",
      "1419    5525.0      3769  -1756.0 -0.465906  \n",
      "4846   10703.0      7310  -3393.0 -0.464159  \n",
      "2233    6276.0      4293  -1983.0 -0.461915  \n",
      "1930   12701.0      8718  -3983.0 -0.456871  \n",
      "4531   16251.0     11161  -5090.0 -0.456052  \n",
      "5640   13750.0      9471  -4279.0 -0.451800  \n",
      "3141   13102.0      9029  -4073.0 -0.451102  \n",
      "5381   11586.0      7999  -3587.0 -0.448431  \n",
      "3262   12604.0      8713  -3891.0 -0.446574  \n",
      "688     4652.0      3217  -1435.0 -0.446068  \n",
      "2830    6501.0      4507  -1994.0 -0.442423  \n",
      "4980   14265.0      9910  -4355.0 -0.439455  \n",
      "      vo_annonce_id           Versioning  PRIX_BAR  b2b_prev     Dif   Percent\n",
      "5511           5737        Partner Tepee    6026.0     10795  4769.0  0.441779\n",
      "4748           4948            C5 Tourer    6347.0     12623  6276.0  0.497188\n",
      "2785           2909           iOn Active    5275.0     10733  5458.0  0.508525\n",
      "4870           5078  Partner Kastenwagen    5551.0     11667  6116.0  0.524214\n",
      "5100           5314           iOn Active    4301.0      9405  5104.0  0.542690\n"
     ]
    }
   ],
   "source": [
    "df_percent = df.sort_values(by='Percent')\n",
    "print(df_percent[['vo_annonce_id','Versioning','PRIX_NEUF_BAR','PRIX_NEUF_AUTOBIZ','PRIX_BAR', 'b2b_prev', 'Dif', 'Percent']].head(60))\n",
    "print(df_percent[['vo_annonce_id','Versioning','PRIX_BAR', 'b2b_prev', 'Dif', 'Percent']].tail())"
   ]
  },
  {
   "cell_type": "code",
   "execution_count": 17,
   "metadata": {
    "collapsed": false,
    "deletable": true,
    "editable": true
   },
   "outputs": [
    {
     "name": "stdout",
     "output_type": "stream",
     "text": [
      "Bad : 53.75 % Near : 21.59 % Good : 24.67 %\n"
     ]
    }
   ],
   "source": [
    "nb_car_bad = len(df[df['Percent']<-0.1]) + len(df[df['Percent']>0.1])\n",
    "nb_car_near = len(df[(df['Percent']>=-0.1) & (df['Percent']<-0.05)]) + len(df[(df['Percent']<=0.1) & (df['Percent']>0.05)])\n",
    "print('Bad :','%.2f'%(100*nb_car_bad/len(df)),'%', 'Near :','%.2f'%(100*nb_car_near/len(df)),'%', 'Good :','%.2f'%(100-100*(nb_car_bad+nb_car_near)/len(df)),'%')"
   ]
  },
  {
   "cell_type": "code",
   "execution_count": 18,
   "metadata": {
    "collapsed": false,
    "deletable": true,
    "editable": true
   },
   "outputs": [
    {
     "name": "stdout",
     "output_type": "stream",
     "text": [
      "44\n",
      "['JU PROLI33' 'Expert Kastenwagen' 'Expert TwinCab' 'Bipper Kastenwagen'\n",
      " 'BERLINGO KaWa' '308 SW' 'Boxer Kastenwagen' 'JUMPER KaWa' 'Expert Pro'\n",
      " 'Partner Kastenwagen' 'JUMPY Kastenwagen' 'JUMPER KAWA' 'Boxer Cargo'\n",
      " 'JUMPER Kastenwagen' 'iOn Active']\n"
     ]
    }
   ],
   "source": [
    "df_double = df[(df['Percent']<=-0.5)]# & (df['Percent']>=0.5)]\n",
    "df_double2 =df[df['Percent']>=0.5]\n",
    "df_double = pd.concat([df_double, df_double2],0)\n",
    "print(len(df_double))\n",
    "print(df_double.Versioning.unique())"
   ]
  },
  {
   "cell_type": "code",
   "execution_count": 19,
   "metadata": {
    "collapsed": false,
    "deletable": true,
    "editable": true,
    "scrolled": false
   },
   "outputs": [
    {
     "name": "stdout",
     "output_type": "stream",
     "text": [
      "      vo_annonce_id           Versioning  PRIX_NEUF_BAR  PRIX_NEUF_AUTOBIZ  \\\n",
      "78               82           JU PROLI33        39984.0                0.0   \n",
      "382             392   Expert Kastenwagen        29119.0                NaN   \n",
      "497             514       Expert TwinCab        34272.0                0.0   \n",
      "505             523   Bipper Kastenwagen        18196.0                0.0   \n",
      "742             767        BERLINGO KaWa        23920.0                0.0   \n",
      "989            1024   Expert Kastenwagen        33498.0                0.0   \n",
      "1076           1113               308 SW        27091.0                NaN   \n",
      "1180           1221    Boxer Kastenwagen        41575.0                0.0   \n",
      "1216           1258   Expert Kastenwagen        33474.0            22206.0   \n",
      "1338           1387   Expert Kastenwagen        26799.0                NaN   \n",
      "1369           1419          JUMPER KaWa        43828.0            25207.0   \n",
      "1778           1848   Expert Kastenwagen        36688.0                0.0   \n",
      "1832           1910           Expert Pro        30368.0            16425.0   \n",
      "1879           1963  Partner Kastenwagen        17648.0                NaN   \n",
      "2136           2226   Bipper Kastenwagen        17280.0            12377.0   \n",
      "2168           2261   Expert Kastenwagen        44411.0                0.0   \n",
      "2229           2322    JUMPY Kastenwagen        44661.0            19519.0   \n",
      "2291           2388   Expert Kastenwagen        31357.0                NaN   \n",
      "2309           2406   Expert Kastenwagen        30108.0                NaN   \n",
      "2333           2430        BERLINGO KaWa        30226.0            16721.0   \n",
      "2797           2922          JUMPER KAWA        40740.0            26701.0   \n",
      "3037           3167   Bipper Kastenwagen        19018.0            13016.0   \n",
      "3049           3179   Bipper Kastenwagen        18899.0                0.0   \n",
      "3054           3184  Partner Kastenwagen        23516.0            15057.0   \n",
      "3055           3185  Partner Kastenwagen        23516.0            15057.0   \n",
      "3135           3266   Bipper Kastenwagen        18494.0            11774.0   \n",
      "3361           3506   Expert Kastenwagen        27679.0                NaN   \n",
      "3542           3692  Partner Kastenwagen        23516.0            15057.0   \n",
      "3601           3755   Expert Kastenwagen        28132.0                NaN   \n",
      "3634           3788   Expert Kastenwagen        30108.0                NaN   \n",
      "3870           4032           JU PROLI33        38509.0                0.0   \n",
      "3924           4091  Partner Kastenwagen        20683.0                0.0   \n",
      "4152           4325          JUMPER KaWa        43828.0            25824.0   \n",
      "4366           4549   Bipper Kastenwagen        18850.0                0.0   \n",
      "4945           5156   Expert Kastenwagen        27489.0                NaN   \n",
      "5143           5361       Expert TwinCab        38128.0                0.0   \n",
      "5272           5495   Expert Kastenwagen        28799.0                NaN   \n",
      "5460           5686   Expert Kastenwagen        27787.0                NaN   \n",
      "5552           5779          Boxer Cargo        65708.0            33175.0   \n",
      "5609           5838   JUMPER Kastenwagen        50159.0                NaN   \n",
      "5660           5889   JUMPER Kastenwagen        35589.0                0.0   \n",
      "2785           2909           iOn Active        18280.0            17989.0   \n",
      "4870           5078  Partner Kastenwagen        25216.0            19053.0   \n",
      "5100           5314           iOn Active        18460.0            17920.0   \n",
      "\n",
      "      PRIX_BAR  b2b_prev      Dif   Percent  \\\n",
      "78      9878.0      6584  -3294.0 -0.500304   \n",
      "382    11752.0      7098  -4654.0 -0.655678   \n",
      "497    10544.0      6654  -3890.0 -0.584611   \n",
      "505     4452.0      2679  -1773.0 -0.661814   \n",
      "742     7219.0      4306  -2913.0 -0.676498   \n",
      "989    11316.0      6770  -4546.0 -0.671492   \n",
      "1076   11819.0      7840  -3979.0 -0.507526   \n",
      "1180   11057.0      6891  -4166.0 -0.604557   \n",
      "1216    7981.0      5251  -2730.0 -0.519901   \n",
      "1338    9546.0      5135  -4411.0 -0.859007   \n",
      "1369   13705.0      8806  -4899.0 -0.556325   \n",
      "1778   12546.0      8286  -4260.0 -0.514120   \n",
      "1832   10045.0      5203  -4842.0 -0.930617   \n",
      "1879    6104.0      3689  -2415.0 -0.654649   \n",
      "2136    7392.0      4918  -2474.0 -0.503050   \n",
      "2168   17244.0     10058  -7186.0 -0.714456   \n",
      "2229    9798.0      6067  -3731.0 -0.614966   \n",
      "2291   11907.0      7682  -4225.0 -0.549987   \n",
      "2309   10619.0      6232  -4387.0 -0.703947   \n",
      "2333    8208.0      5350  -2858.0 -0.534206   \n",
      "2797   14554.0      8943  -5611.0 -0.627418   \n",
      "3037    6301.0      3839  -2462.0 -0.641313   \n",
      "3049    5985.0      3879  -2106.0 -0.542923   \n",
      "3054    8659.0      4956  -3703.0 -0.747175   \n",
      "3055    8659.0      4956  -3703.0 -0.747175   \n",
      "3135    4809.0      2959  -1850.0 -0.625211   \n",
      "3361    8918.0      5273  -3645.0 -0.691257   \n",
      "3542    8659.0      4956  -3703.0 -0.747175   \n",
      "3601   10215.0      5173  -5042.0 -0.974676   \n",
      "3634   10619.0      6232  -4387.0 -0.703947   \n",
      "3870    8869.0      5501  -3368.0 -0.612252   \n",
      "3924    6414.0      4251  -2163.0 -0.508821   \n",
      "4152   13705.0      8741  -4964.0 -0.567898   \n",
      "4366    7468.0      4344  -3124.0 -0.719153   \n",
      "4945    9522.0      5382  -4140.0 -0.769231   \n",
      "5143   12134.0      8018  -4116.0 -0.513345   \n",
      "5272   10746.0      6232  -4514.0 -0.724326   \n",
      "5460    9710.0      5520  -4190.0 -0.759058   \n",
      "5552   24349.0     13933 -10416.0 -0.747578   \n",
      "5609   11359.0      7320  -4039.0 -0.551776   \n",
      "5660   10143.0      6168  -3975.0 -0.644455   \n",
      "2785    5275.0     10733   5458.0  0.508525   \n",
      "4870    5551.0     11667   6116.0  0.524214   \n",
      "5100    4301.0      9405   5104.0  0.542690   \n",
      "\n",
      "                                                    URL  \n",
      "78    http://www.autobiz-market.com/de/SVO/AUTOBIZ_c...  \n",
      "382   http://www.autobiz-market.com/de/SVO/AUTOBIZ_c...  \n",
      "497   http://www.autobiz-market.com/de/SVO/AUTOBIZ_c...  \n",
      "505   http://www.autobiz-market.com/de/SVO/AUTOBIZ_c...  \n",
      "742   http://www.autobiz-market.com/de/SVO/AUTOBIZ_c...  \n",
      "989   http://www.autobiz-market.com/de/SVO/AUTOBIZ_c...  \n",
      "1076  http://www.autobiz-market.com/de/SVO/AUTOBIZ_c...  \n",
      "1180  http://www.autobiz-market.com/de/SVO/AUTOBIZ_c...  \n",
      "1216  http://www.autobiz-market.com/de/SVO/AUTOBIZ_c...  \n",
      "1338  http://www.autobiz-market.com/de/SVO/AUTOBIZ_c...  \n",
      "1369  http://www.autobiz-market.com/de/SVO/AUTOBIZ_c...  \n",
      "1778  http://www.autobiz-market.com/de/SVO/AUTOBIZ_c...  \n",
      "1832  http://www.autobiz-market.com/de/SVO/AUTOBIZ_c...  \n",
      "1879  http://www.autobiz-market.com/de/SVO/AUTOBIZ_c...  \n",
      "2136  http://www.autobiz-market.com/de/SVO/AUTOBIZ_c...  \n",
      "2168  http://www.autobiz-market.com/de/SVO/AUTOBIZ_c...  \n",
      "2229  http://www.autobiz-market.com/de/SVO/AUTOBIZ_c...  \n",
      "2291  http://www.autobiz-market.com/de/SVO/AUTOBIZ_c...  \n",
      "2309  http://www.autobiz-market.com/de/SVO/AUTOBIZ_c...  \n",
      "2333  http://www.autobiz-market.com/de/SVO/AUTOBIZ_c...  \n",
      "2797  http://www.autobiz-market.com/de/SVO/AUTOBIZ_c...  \n",
      "3037  http://www.autobiz-market.com/de/SVO/AUTOBIZ_c...  \n",
      "3049  http://www.autobiz-market.com/de/SVO/AUTOBIZ_c...  \n",
      "3054  http://www.autobiz-market.com/de/SVO/AUTOBIZ_c...  \n",
      "3055  http://www.autobiz-market.com/de/SVO/AUTOBIZ_c...  \n",
      "3135  http://www.autobiz-market.com/de/SVO/AUTOBIZ_c...  \n",
      "3361  http://www.autobiz-market.com/de/SVO/AUTOBIZ_c...  \n",
      "3542  http://www.autobiz-market.com/de/SVO/AUTOBIZ_c...  \n",
      "3601  http://www.autobiz-market.com/de/SVO/AUTOBIZ_c...  \n",
      "3634  http://www.autobiz-market.com/de/SVO/AUTOBIZ_c...  \n",
      "3870  http://www.autobiz-market.com/de/SVO/AUTOBIZ_c...  \n",
      "3924  http://www.autobiz-market.com/de/SVO/AUTOBIZ_c...  \n",
      "4152  http://www.autobiz-market.com/de/SVO/AUTOBIZ_c...  \n",
      "4366  http://www.autobiz-market.com/de/SVO/AUTOBIZ_c...  \n",
      "4945  http://www.autobiz-market.com/de/SVO/AUTOBIZ_c...  \n",
      "5143  http://www.autobiz-market.com/de/SVO/AUTOBIZ_c...  \n",
      "5272  http://www.autobiz-market.com/de/SVO/AUTOBIZ_c...  \n",
      "5460  http://www.autobiz-market.com/de/SVO/AUTOBIZ_c...  \n",
      "5552  http://www.autobiz-market.com/de/SVO/AUTOBIZ_c...  \n",
      "5609  http://www.autobiz-market.com/de/SVO/AUTOBIZ_c...  \n",
      "5660  http://www.autobiz-market.com/de/SVO/AUTOBIZ_c...  \n",
      "2785  http://www.autobiz-market.com/de/SVO/AUTOBIZ_c...  \n",
      "4870  http://www.autobiz-market.com/de/SVO/AUTOBIZ_c...  \n",
      "5100  http://www.autobiz-market.com/de/SVO/AUTOBIZ_c...  \n"
     ]
    }
   ],
   "source": [
    "print(df_double[['vo_annonce_id','Versioning','PRIX_NEUF_BAR','PRIX_NEUF_AUTOBIZ',\\\n",
    "                  'PRIX_BAR', 'b2b_prev', 'Dif', 'Percent','URL']])"
   ]
  },
  {
   "cell_type": "code",
   "execution_count": 53,
   "metadata": {
    "collapsed": false,
    "deletable": true,
    "editable": true,
    "scrolled": false
   },
   "outputs": [
    {
     "name": "stdout",
     "output_type": "stream",
     "text": [
      "28\n",
      "vo_annonce_id                                                      3184\n",
      "cote_vo                                                               0\n",
      "cote_mcclbp                                                        8575\n",
      "VIN                                                   vf37f9hf0fj640523\n",
      "MCCLBP                                    DE-82-2716-2-22-1-1.60-90---N\n",
      "PRIX_NEUF_BAR                                                     23516\n",
      "PRIX_BAR                                                           8659\n",
      "KMM                                                                5830\n",
      "PRIX_NEUF_AUTOBIZ                                                 15057\n",
      "Ref ID                                                           137096\n",
      "porte                                                                 0\n",
      "MEC                                                           22/5/2015\n",
      "date_vr                                             2017-05-21 00:00:00\n",
      "km_vr                                                            140000\n",
      "Metal                                                                 N\n",
      "Genre                                                                vu\n",
      "SURKM                                                             87500\n",
      "B2C today                                                          8435\n",
      "B2C VR                                                             8296\n",
      "b2b_brut                                                           4956\n",
      "b2b_prev                                                           4956\n",
      "Dévalo Annuel                                                  0.905111\n",
      "Valeur Equip Today                                                    0\n",
      "Version PSA           Partner Kastenwagen Komfort L2 1,6l e-HDi 90 S...\n",
      "Desc LCDV             Partner Kastenwagen Komfort L2 1,6l e-HDi 90 S...\n",
      "Version Autobiz                      1.6 E-HDI 90 L2 KOMFORT START-STOP\n",
      "URL                   http://www.autobiz-market.com/de/SVO/AUTOBIZ_c...\n",
      "b2b_prev_norm                                                  0.484456\n",
      "PRIX_BAR_norm                                                  0.881661\n",
      "Dif                                                               -3703\n",
      "Percent                                                       -0.747175\n",
      "Versioning                                          Partner Kastenwagen\n",
      "Name: 3054, dtype: object\n",
      "http://www.autobiz-market.com/de/SVO/AUTOBIZ_cote_vo_analyse_2.php?&select_vo_marque=82&select_vo_modele=2716&select_vo_annee=2015&carburant_id=2&select_litre=1.6\n",
      "137199.333333\n"
     ]
    }
   ],
   "source": [
    "df_double2 = df_double.drop_duplicates(['Desc LCDV'])\n",
    "#df_double3 = df_double2.copy()\n",
    "#del df_double3['Versioning' ]\n",
    "numb = 19\n",
    "print(len(df_double2))\n",
    "\n",
    "print(df_double2.iloc[numb])\n",
    "print(df_double2['URL'].iat[numb])\n",
    "car = df_double2.iloc[numb]\n",
    "age = datetime.now() - datetime.strptime(car.MEC, '%d/%m/%Y') \n",
    "age = age.days/30\n",
    "#print(age.days/30)\n",
    "km = age * car.KMM\n",
    "print(km)"
   ]
  },
  {
   "cell_type": "code",
   "execution_count": null,
   "metadata": {
    "collapsed": true,
    "deletable": true,
    "editable": true
   },
   "outputs": [],
   "source": []
  }
 ],
 "metadata": {
  "kernelspec": {
   "display_name": "Python 3",
   "language": "python",
   "name": "python3"
  },
  "language_info": {
   "codemirror_mode": {
    "name": "ipython",
    "version": 3
   },
   "file_extension": ".py",
   "mimetype": "text/x-python",
   "name": "python",
   "nbconvert_exporter": "python",
   "pygments_lexer": "ipython3",
   "version": "3.6.1"
  }
 },
 "nbformat": 4,
 "nbformat_minor": 2
}
